{
 "cells": [
  {
   "cell_type": "code",
   "execution_count": null,
   "id": "a1aa05b2-718c-46c8-a50c-77c2b8e73469",
   "metadata": {},
   "outputs": [],
   "source": [
    "\n",
    "# Script to extract and process CASA data from Hamilton Thorne IVOS II system.\n",
    "# It reads .DBS and .DBT files, cleans and formats data, and exports it to .csv and .xlsx files.\n"
   ]
  },
  {
   "cell_type": "code",
   "execution_count": null,
   "id": "acc8c861-7e55-4d77-aa81-08f260709895",
   "metadata": {},
   "outputs": [],
   "source": [
    "import pandas as pd\n",
    "import os"
   ]
  },
  {
   "cell_type": "code",
   "execution_count": null,
   "id": "0896f92d-7e82-4a9b-9e80-455c403ba297",
   "metadata": {},
   "outputs": [],
   "source": [
    "# === Block 2: Set date and file location ===\n",
    "date = 20250715  # Change to today's date or the experiment batch date\n",
    "folder = 'DBST_files'  # Folder containing your .DBS and .DBT files\n",
    "\n",
    "# Make sure the folder exists (optional safety check)\n",
    "if not os.path.exists(folder):\n",
    "    raise FileNotFoundError(f\"The folder '{folder}' does not exist.\")"
   ]
  },
  {
   "cell_type": "code",
   "execution_count": null,
   "id": "9d0b2d5c-fac8-410a-8363-32cfa7163cf2",
   "metadata": {},
   "outputs": [],
   "source": [
    "# Columns to keep in the average metrics files\n",
    "keep = ['VAP', 'VSL', 'VCL', 'ALH', 'BCF', 'STR', 'LIN', 'ELONGATION', 'SIZE',\n",
    "        'VAP_SD', 'VSL_SD', 'VCL_SD', 'ALH_SD', 'BCF_SD', 'STR_SD', 'LIN_SD',\n",
    "        'ELONGATION_SD', 'SIZE_SD', 'TOTAL_COUNT', 'MOTILE_COUNT', 'PROGRESSIVE_COUNT', 'RAPID_COUNT',\n",
    "        'MEDIUM_COUNT', 'SLOW_COUNT', 'STATIC_COUNT', 'SORT1_COUNT', 'SORT2_COUNT']\n",
    "\n",
    "sort = ['SAMPLE', 'TOTAL_COUNT', 'MOTILE_COUNT', 'PROGRESSIVE_COUNT',\n",
    "        'HYP1_COUNT', 'HYP2_COUNT', 'VAP', 'VSL', 'VCL', 'ALH', 'BCF', 'STR', 'LIN', 'ELONGATION', 'SIZE',\n",
    "        'VAP_SD', 'VSL_SD', 'VCL_SD', 'ALH_SD', 'BCF_SD', 'STR_SD', 'LIN_SD',\n",
    "        'ELONGATION_SD', 'SIZE_SD', 'RAPID_COUNT', 'MEDIUM_COUNT', 'SLOW_COUNT', 'STATIC_COUNT']\n",
    "\n",
    "# Columns to keep and order in the single-sperm tracking data\n",
    "keepsperm = ['FIELD#', 'TRACK#', 'TRACK_TYPE', 'POINTS', 'VAP',\n",
    "             'VSL', 'VCL', 'ALH', 'BCF', 'STR', 'LIN', 'ELONGATION', 'SIZE',\n",
    "             'SIZE_PIXELS', 'INTENSITY', 'SORTED']\n",
    "\n",
    "sortsperm = ['SAMPLE', 'FIELD#', 'TRACK#', 'TRACK_TYPE', 'POINTS', 'VAP',\n",
    "             'VSL', 'VCL', 'ALH', 'BCF', 'STR', 'LIN', 'ELONGATION', 'SIZE',\n",
    "             'SIZE_PIXELS', 'INTENSITY', 'SORTED']\n",
    "\n",
    "\n",
    "compiledf = pd.DataFrame()\n",
    "\n",
    "for filename in  os.listdir(f'{folder}'):\n",
    "    if filename.endswith('.DBS'):\n",
    "        file = f'{folder}/{filename}'\n",
    "        base, ext = os.path.splitext(filename)\n",
    "        condition = base\n",
    "        totaldf = pd.read_csv(file, sep='\\t', encoding = 'ascii')\n",
    "        totaldf = totaldf.dropna(axis = 1, how = 'all')\n",
    "        totalclean = totaldf[keep].copy()\n",
    "        if not totalclean.empty:
    "          totalclean.loc[:,'SAMPLE'] = condition\n",
    "          compiledf = pd.concat([totalclean, compiledf], ignore_index = True)\n",
    "compiledf = compiledf.rename(columns = {'SORT1_COUNT':'HYP1_COUNT','SORT2_COUNT':'HYP2_COUNT'})\n",
    "compiledf = compiledf[sort]\n",
    "compiledf = compiledf.sort_values(by='SAMPLE').reset_index(drop=True)\n",
    "compiledf.to_csv(f'{folder}/{date}_CASA.csv', index = False)\n",
    "compiledf.to_excel(f'{folder}/{date}_CASA.xlsx', index = False)\n",
    "\n",
    "compilesperm = pd.DataFrame()\n",
    "\n",
    "for filename in  os.listdir(f'{folder}'):\n",
    "    if filename.endswith('.DBT'):\n",
    "        file = f'{folder}/{filename}'\n",
    "        base, ext = os.path.splitext(filename)\n",
    "        conditionsperm = base\n",
    "        spermdf = pd.read_csv(file, sep='\\t', encoding = 'ascii')\n",
    "        available_cols = [col for col in keepsperm if col in spermdf.columns]\n",
    "        if not available_cols:\n",
    "            print(f'Skipping {filename}: no relevant columns found')\n",
    "            continue\n",
    "        spermclean = spermdf[available_cols].copy()\n",
    "        if not spermclean.empty:
    "           spermclean.loc[:,'SAMPLE'] = conditionsperm\n",
    "           compilesperm = pd.concat([compilesperm, spermclean], ignore_index=True)\n",
    "\n",
    "compilesperm = compilesperm.sort_values(by=['SAMPLE', 'FIELD#', 'TRACK#']).reset_index(drop=True)\n",
    "compilesperm = compilesperm[sortsperm]\n",
    "\n",
    "# Export files:\n",
    "\n",
    "compilesperm.to_csv(f'{folder}/{date}_sperm.csv', index = False)\n",
    "compilesperm.to_excel(f'{folder}/{date}_sperm.xlsx', index = False)"
   ]
  }
 ],
 "metadata": {
  "kernelspec": {
   "display_name": "Python 3 (ipykernel)",
   "language": "python",
   "name": "python3"
  },
  "language_info": {
   "codemirror_mode": {
    "name": "ipython",
    "version": 3
   },
   "file_extension": ".py",
   "mimetype": "text/x-python",
   "name": "python",
   "nbconvert_exporter": "python",
   "pygments_lexer": "ipython3",
   "version": "3.11.9"
  }
 },
 "nbformat": 4,
 "nbformat_minor": 5
}
